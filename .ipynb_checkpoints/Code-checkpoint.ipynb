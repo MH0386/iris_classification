{
 "cells": [
  {
   "cell_type": "code",
   "execution_count": 98,
   "metadata": {
    "cell_id": "7ce8bf91aa8442eb882190fabe89159c",
    "deepnote_cell_type": "code",
    "deepnote_to_be_reexecuted": false,
    "execution_millis": 4560,
    "execution_start": 1668505465831,
    "source_hash": "4727c4c6",
    "tags": []
   },
   "outputs": [],
   "source": [
    "from sklearn.utils import shuffle\n",
    "from sklearn.naive_bayes import GaussianNB\n",
    "from sklearn import datasets\n",
    "from mlxtend.plotting import plot_decision_regions\n",
    "from matplotlib import pyplot as plt"
   ]
  },
  {
   "cell_type": "code",
   "execution_count": 99,
   "metadata": {
    "cell_id": "19b73e3b632240a29a0d561937920f7d",
    "deepnote_cell_type": "code",
    "deepnote_to_be_reexecuted": false,
    "execution_millis": 44,
    "execution_start": 1668505470435,
    "source_hash": "73fc444f",
    "tags": []
   },
   "outputs": [],
   "source": [
    "# loading the data set\n",
    "dataset = datasets.load_iris()\n",
    "data = dataset.data[:, [0, 2]]  # assigning the features data\n",
    "data_class = dataset.target  # assigning the label data\n",
    "remaining_features = dataset.data[:, [1, 3]]"
   ]
  },
  {
   "cell_type": "code",
   "execution_count": 100,
   "metadata": {
    "cell_id": "36dbed609471408887c7818c5d1a4d73",
    "deepnote_cell_type": "code",
    "deepnote_to_be_reexecuted": false,
    "execution_start": 1668505470524,
    "source_hash": "90976ea6",
    "tags": []
   },
   "outputs": [],
   "source": [
    "# random shuffling the data\n",
    "data, data_class, remaining_features = shuffle(data, data_class, remaining_features)"
   ]
  },
  {
   "cell_type": "code",
   "execution_count": 101,
   "metadata": {
    "cell_id": "33a4ba63f57947b7a6f54b68c2733db5",
    "deepnote_cell_type": "code",
    "deepnote_to_be_reexecuted": false,
    "execution_start": 1668505470567,
    "source_hash": "49981034",
    "tags": []
   },
   "outputs": [],
   "source": [
    "# loading the classifier\n",
    "model = GaussianNB()"
   ]
  },
  {
   "cell_type": "code",
   "execution_count": 102,
   "metadata": {
    "cell_id": "4d24e37945d84bb78ea4abaa871f676a",
    "deepnote_cell_type": "code",
    "deepnote_to_be_reexecuted": false,
    "execution_start": 1668505470611,
    "source_hash": "2fcdc4b9",
    "tags": []
   },
   "outputs": [],
   "source": [
    "# splitting the data into train,validate, test samples\n",
    "def split(features, label, valRatio, testRatio):\n",
    "    # getting the samples sizes\n",
    "    testSample = int(len(label) * testRatio)\n",
    "    validationSample = int(len(label) * valRatio + testSample)\n",
    "\n",
    "    # splitting the data into 3 samples\n",
    "    x_test, y_test = features[: testSample], label[: testSample]\n",
    "    x_validation, y_validation = features[testSample: validationSample], label[testSample: validationSample]\n",
    "    x_train, y_train = features[validationSample:], label[validationSample:]\n",
    "\n",
    "    # returning samples\n",
    "    return x_train, y_train, x_test, y_test, x_validation, y_validation"
   ]
  },
  {
   "cell_type": "code",
   "execution_count": 103,
   "metadata": {
    "cell_id": "7ca6efdf158b45e097cfcc566c2fcdb9",
    "deepnote_cell_type": "code",
    "deepnote_to_be_reexecuted": false,
    "execution_millis": 0,
    "execution_start": 1668505470612,
    "source_hash": "509e55ee",
    "tags": []
   },
   "outputs": [],
   "source": [
    "#  train the model\n",
    "def train(xtrain, ytrain):\n",
    "    model.fit(xtrain, ytrain)"
   ]
  },
  {
   "cell_type": "code",
   "execution_count": 104,
   "metadata": {
    "cell_id": "a3b471110701468f805743a1cb7c2a5c",
    "deepnote_cell_type": "code",
    "deepnote_to_be_reexecuted": false,
    "execution_start": 1668505470655,
    "source_hash": "83d62e0c",
    "tags": []
   },
   "outputs": [],
   "source": [
    "# validate the model and trying to increase the accuracy\n",
    "def validate(xvalidation, yvalidation):\n",
    "    model.fit(xvalidation, yvalidation)"
   ]
  },
  {
   "cell_type": "code",
   "execution_count": 105,
   "metadata": {
    "cell_id": "e80d396b2756449abdb171f98aa2896d",
    "deepnote_cell_type": "code",
    "deepnote_to_be_reexecuted": false,
    "execution_millis": 23,
    "execution_start": 1668505470656,
    "source_hash": "4cc2eb4c",
    "tags": []
   },
   "outputs": [],
   "source": [
    "# test the model used\n",
    "def test(xtest):\n",
    "    predicted_results = model.predict(xtest)\n",
    "    return predicted_results"
   ]
  },
  {
   "cell_type": "code",
   "execution_count": 106,
   "metadata": {
    "cell_id": "5c9768dd283a4946b9c3f6be784687f9",
    "deepnote_cell_type": "code",
    "deepnote_to_be_reexecuted": false,
    "execution_millis": 0,
    "execution_start": 1668505470735,
    "source_hash": "b962994f",
    "tags": []
   },
   "outputs": [],
   "source": [
    "# calculate model accuracy\n",
    "def calc_accuracy(predicted, original):\n",
    "    cnt = 0\n",
    "    for i in range(len(predicted)):\n",
    "        if predicted[i] == original[i]:\n",
    "            cnt += 1\n",
    "    print(\"Accuracy = \", cnt / len(original) * 100)"
   ]
  },
  {
   "cell_type": "code",
   "execution_count": 107,
   "metadata": {
    "cell_id": "450dedc2b2554293a2cad2311f4fe12f",
    "deepnote_cell_type": "code",
    "deepnote_to_be_reexecuted": false,
    "execution_start": 1668505470779,
    "source_hash": "c287c7e9",
    "tags": []
   },
   "outputs": [],
   "source": [
    "def train_validate_test_split(features, labels, testRatio=0.3, valRatio=0.3):\n",
    "    # first we split the data into 3 sets:\n",
    "    # 1) train dataset to train our model (x_train, y_train)\n",
    "    # 2) validation dataset to improve model's accuracy (x_validation, y_validation)\n",
    "    # 3) test dataset to test the model and make it predict the labels for unknown data (x_test, y_test)\n",
    "    x_train, y_train, x_test, y_test, x_validation, y_validation = split(features, labels, valRatio, testRatio)\n",
    "\n",
    "    # secondly, we train our model using the training samples\n",
    "    train(x_train, y_train)\n",
    "\n",
    "    # thirdly, we validate the model using validation samples\n",
    "    validate(x_validation, y_validation)\n",
    "\n",
    "    # and then we test the model and let it predict the labels of unknown data\n",
    "    predicted_values = test(x_test)\n",
    "\n",
    "    # finally, we calculate the model's accuracy\n",
    "    calc_accuracy(predicted_values, y_test)"
   ]
  },
  {
   "cell_type": "code",
   "execution_count": 108,
   "metadata": {
    "cell_id": "69ec6461304f4e4e86d60ca59e646189",
    "deepnote_cell_type": "code",
    "deepnote_to_be_reexecuted": false,
    "execution_start": 1668505470780,
    "source_hash": "387e19e",
    "tags": []
   },
   "outputs": [
    {
     "name": "stdout",
     "output_type": "stream",
     "text": [
      "Accuracy =  95.55555555555556\n"
     ]
    }
   ],
   "source": [
    "# calling train_validate_test_split() function to train, validate, test, and calculate the accuracy of the model\n",
    "train_validate_test_split(data, data_class)"
   ]
  },
  {
   "cell_type": "markdown",
   "metadata": {},
   "source": [
    "# Using plot_decision_regions() function to draw the decision boundaries of the model"
   ]
  },
  {
   "cell_type": "code",
   "execution_count": 114,
   "metadata": {
    "cell_id": "fe30ab84ab3645b08528c36d708c83b1",
    "deepnote_cell_type": "code",
    "deepnote_to_be_reexecuted": false,
    "execution_millis": 1229,
    "execution_start": 1668505470823,
    "source_hash": "66bb6eee",
    "tags": []
   },
   "outputs": [
    {
     "data": {
      "image/png": "[encoded data removed]",
      "text/plain": [
       "<Figure size 640x480 with 1 Axes>"
      ]
     },
     "metadata": {},
     "output_type": "display_data"
    }
   ],
   "source": [
    "ax = plot_decision_regions(data, data_class, clf=model, legend=0, filler_feature_values={1: 3.045, 3: 1.198667}, filler_feature_ranges={1: 2.2, 3: 2.4})\n",
    "handles, labels = ax.get_legend_handles_labels()\n",
    "ax.legend(handles, ['Iris-setosa', 'Iris-versicolor', 'Iris-virginica'])\n",
    "plt.show()"
   ]
  }
 ],
 "metadata": {
  "deepnote": {},
  "deepnote_execution_queue": [],
  "deepnote_notebook_id": "77b4a44c1f7e402e96489517c69cf2b1",
  "deepnote_persisted_session": {
   "createdAt": "2022-11-15T09:36:30.934Z"
  },
  "kernelspec": {
   "display_name": "Python 3 (ipykernel)",
   "language": "python",
   "name": "python3"
  },
  "language_info": {
   "codemirror_mode": {
    "name": "ipython",
    "version": 3
   },
   "file_extension": ".py",
   "mimetype": "text/x-python",
   "name": "python",
   "nbconvert_exporter": "python",
   "pygments_lexer": "ipython3",
   "version": "3.9.15"
  },
  "vscode": {
   "interpreter": {
    "hash": "dfe2e9041c24d5f91854bb9ffc35eacf9a6123f8e0fdaf39110ac9ad93cae24d"
   }
  }
 },
 "nbformat": 4,
 "nbformat_minor": 1
}
